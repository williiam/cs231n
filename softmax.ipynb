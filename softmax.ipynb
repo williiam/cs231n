{
  "cells": [
    {
      "cell_type": "code",
      "execution_count": 14,
      "id": "161a3aa0",
      "metadata": {
        "colab": {
          "base_uri": "https://localhost:8080/"
        },
        "id": "161a3aa0",
        "outputId": "521e05b7-952c-406d-8bcc-509db31198ef"
      },
      "outputs": [
        {
          "output_type": "stream",
          "name": "stdout",
          "text": [
            "Drive already mounted at /content/drive; to attempt to forcibly remount, call drive.mount(\"/content/drive\", force_remount=True).\n",
            "/content/drive/My Drive/cs231n/assignments/assignment1/cs231n/datasets\n",
            "/content/drive/My Drive/cs231n/assignments/assignment1\n"
          ]
        }
      ],
      "source": [
        "# This mounts your Google Drive to the Colab VM.\n",
        "from google.colab import drive\n",
        "drive.mount('/content/drive')\n",
        "\n",
        "# TODO: Enter the foldername in your Drive where you have saved the unzipped\n",
        "# assignment folder, e.g. 'cs231n/assignments/assignment1/'\n",
        "FOLDERNAME = 'cs231n/assignments/assignment1/'\n",
        "assert FOLDERNAME is not None, \"[!] Enter the foldername.\"\n",
        "\n",
        "# Now that we've mounted your Drive, this ensures that\n",
        "# the Python interpreter of the Colab VM can load\n",
        "# python files from within it.\n",
        "import sys\n",
        "sys.path.append('/content/drive/My Drive/{}'.format(FOLDERNAME))\n",
        "\n",
        "# This downloads the CIFAR-10 dataset to your Drive\n",
        "# if it doesn't already exist.\n",
        "%cd /content/drive/My\\ Drive/$FOLDERNAME/cs231n/datasets/\n",
        "!bash get_datasets.sh\n",
        "%cd /content/drive/My\\ Drive/$FOLDERNAME"
      ]
    },
    {
      "cell_type": "markdown",
      "id": "26fdca1c",
      "metadata": {
        "tags": [
          "pdf-title"
        ],
        "id": "26fdca1c"
      },
      "source": [
        "# Softmax exercise\n",
        "\n",
        "*Complete and hand in this completed worksheet (including its outputs and any supporting code outside of the worksheet) with your assignment submission. For more details see the [assignments page](http://vision.stanford.edu/teaching/cs231n/assignments.html) on the course website.*\n",
        "\n",
        "This exercise is analogous to the SVM exercise. You will:\n",
        "\n",
        "- implement a fully-vectorized **loss function** for the Softmax classifier\n",
        "- implement the fully-vectorized expression for its **analytic gradient**\n",
        "- **check your implementation** with numerical gradient\n",
        "- use a validation set to **tune the learning rate and regularization** strength\n",
        "- **optimize** the loss function with **SGD**\n",
        "- **visualize** the final learned weights\n"
      ]
    },
    {
      "cell_type": "code",
      "execution_count": 15,
      "id": "1f12280f",
      "metadata": {
        "tags": [
          "pdf-ignore"
        ],
        "colab": {
          "base_uri": "https://localhost:8080/"
        },
        "id": "1f12280f",
        "outputId": "f81abfe6-725f-4d3c-d572-52f6d50b76bd"
      },
      "outputs": [
        {
          "output_type": "stream",
          "name": "stdout",
          "text": [
            "The autoreload extension is already loaded. To reload it, use:\n",
            "  %reload_ext autoreload\n"
          ]
        }
      ],
      "source": [
        "import random\n",
        "import numpy as np\n",
        "from cs231n.data_utils import load_CIFAR10\n",
        "import matplotlib.pyplot as plt\n",
        "\n",
        "%matplotlib inline\n",
        "plt.rcParams['figure.figsize'] = (10.0, 8.0) # set default size of plots\n",
        "plt.rcParams['image.interpolation'] = 'nearest'\n",
        "plt.rcParams['image.cmap'] = 'gray'\n",
        "\n",
        "# for auto-reloading extenrnal modules\n",
        "# see http://stackoverflow.com/questions/1907993/autoreload-of-modules-in-ipython\n",
        "%load_ext autoreload\n",
        "%autoreload 2"
      ]
    },
    {
      "cell_type": "code",
      "execution_count": 16,
      "id": "ab106c82",
      "metadata": {
        "tags": [
          "pdf-ignore"
        ],
        "colab": {
          "base_uri": "https://localhost:8080/"
        },
        "id": "ab106c82",
        "outputId": "06998b7c-fd4b-48ae-fea4-79f816c7a8f7"
      },
      "outputs": [
        {
          "output_type": "stream",
          "name": "stdout",
          "text": [
            "Train data shape:  (49000, 3073)\n",
            "Train labels shape:  (49000,)\n",
            "Validation data shape:  (1000, 3073)\n",
            "Validation labels shape:  (1000,)\n",
            "Test data shape:  (1000, 3073)\n",
            "Test labels shape:  (1000,)\n",
            "dev data shape:  (500, 3073)\n",
            "dev labels shape:  (500,)\n"
          ]
        }
      ],
      "source": [
        "def get_CIFAR10_data(num_training=49000, num_validation=1000, num_test=1000, num_dev=500):\n",
        "    \"\"\"\n",
        "    Load the CIFAR-10 dataset from disk and perform preprocessing to prepare\n",
        "    it for the linear classifier. These are the same steps as we used for the\n",
        "    SVM, but condensed to a single function.  \n",
        "    \"\"\"\n",
        "    # Load the raw CIFAR-10 data\n",
        "    cifar10_dir = 'cs231n/datasets/cifar-10-batches-py'\n",
        "    \n",
        "    # Cleaning up variables to prevent loading data multiple times (which may cause memory issue)\n",
        "    try:\n",
        "       del X_train, y_train\n",
        "       del X_test, y_test\n",
        "       print('Clear previously loaded data.')\n",
        "    except:\n",
        "       pass\n",
        "\n",
        "    X_train, y_train, X_test, y_test = load_CIFAR10(cifar10_dir)\n",
        "    \n",
        "    # subsample the data\n",
        "    mask = list(range(num_training, num_training + num_validation))\n",
        "    X_val = X_train[mask]\n",
        "    y_val = y_train[mask]\n",
        "    mask = list(range(num_training))\n",
        "    X_train = X_train[mask]\n",
        "    y_train = y_train[mask]\n",
        "    mask = list(range(num_test))\n",
        "    X_test = X_test[mask]\n",
        "    y_test = y_test[mask]\n",
        "    mask = np.random.choice(num_training, num_dev, replace=False)\n",
        "    X_dev = X_train[mask]\n",
        "    y_dev = y_train[mask]\n",
        "    \n",
        "    # Preprocessing: reshape the image data into rows\n",
        "    X_train = np.reshape(X_train, (X_train.shape[0], -1))\n",
        "    X_val = np.reshape(X_val, (X_val.shape[0], -1))\n",
        "    X_test = np.reshape(X_test, (X_test.shape[0], -1))\n",
        "    X_dev = np.reshape(X_dev, (X_dev.shape[0], -1))\n",
        "    \n",
        "    # Normalize the data: subtract the mean image\n",
        "    mean_image = np.mean(X_train, axis = 0)\n",
        "    X_train -= mean_image\n",
        "    X_val -= mean_image\n",
        "    X_test -= mean_image\n",
        "    X_dev -= mean_image\n",
        "    \n",
        "    # add bias dimension and transform into columns\n",
        "    X_train = np.hstack([X_train, np.ones((X_train.shape[0], 1))])\n",
        "    X_val = np.hstack([X_val, np.ones((X_val.shape[0], 1))])\n",
        "    X_test = np.hstack([X_test, np.ones((X_test.shape[0], 1))])\n",
        "    X_dev = np.hstack([X_dev, np.ones((X_dev.shape[0], 1))])\n",
        "    \n",
        "    return X_train, y_train, X_val, y_val, X_test, y_test, X_dev, y_dev\n",
        "\n",
        "\n",
        "# Invoke the above function to get our data.\n",
        "X_train, y_train, X_val, y_val, X_test, y_test, X_dev, y_dev = get_CIFAR10_data()\n",
        "print('Train data shape: ', X_train.shape)\n",
        "print('Train labels shape: ', y_train.shape)\n",
        "print('Validation data shape: ', X_val.shape)\n",
        "print('Validation labels shape: ', y_val.shape)\n",
        "print('Test data shape: ', X_test.shape)\n",
        "print('Test labels shape: ', y_test.shape)\n",
        "print('dev data shape: ', X_dev.shape)\n",
        "print('dev labels shape: ', y_dev.shape)"
      ]
    },
    {
      "cell_type": "markdown",
      "id": "4721c3cb",
      "metadata": {
        "id": "4721c3cb"
      },
      "source": [
        "## Softmax Classifier\n",
        "\n",
        "Your code for this section will all be written inside `cs231n/classifiers/softmax.py`.\n"
      ]
    },
    {
      "cell_type": "code",
      "execution_count": 17,
      "id": "d42765cd",
      "metadata": {
        "colab": {
          "base_uri": "https://localhost:8080/"
        },
        "id": "d42765cd",
        "outputId": "a7795cf1-4268-4e66-c942-3bb2da25833f"
      },
      "outputs": [
        {
          "output_type": "stream",
          "name": "stdout",
          "text": [
            "loss: 2.354778\n",
            "sanity check: 2.302585\n"
          ]
        }
      ],
      "source": [
        "# First implement the naive softmax loss function with nested loops.\n",
        "# Open the file cs231n/classifiers/softmax.py and implement the\n",
        "# softmax_loss_naive function.\n",
        "\n",
        "from cs231n.classifiers.softmax import softmax_loss_naive\n",
        "import time\n",
        "\n",
        "# Generate a random softmax weight matrix and use it to compute the loss.\n",
        "W = np.random.randn(3073, 10) * 0.0001\n",
        "loss, grad = softmax_loss_naive(W, X_dev, y_dev, 0.0)\n",
        "\n",
        "# As a rough sanity check, our loss should be something close to -log(0.1).\n",
        "print('loss: %f' % loss)\n",
        "print('sanity check: %f' % (-np.log(0.1)))"
      ]
    },
    {
      "cell_type": "markdown",
      "id": "6f88764e",
      "metadata": {
        "tags": [
          "pdf-inline"
        ],
        "id": "6f88764e"
      },
      "source": [
        "**Inline Question 1**\n",
        "\n",
        "Why do we expect our loss to be close to -log(0.1)? Explain briefly.**\n",
        "\n",
        "$\\color{blue}{\\textit Your Answer:}$ *Fill this in* \n",
        "\n",
        "因爲有10個class，所以隨機初始化後猜對的機率是十分之一，\n",
        "使用cross-entropy計算所以我們預測loss為-log(0.1)\n",
        "\n"
      ]
    },
    {
      "cell_type": "code",
      "execution_count": 18,
      "id": "4c2626ef",
      "metadata": {
        "colab": {
          "base_uri": "https://localhost:8080/"
        },
        "id": "4c2626ef",
        "outputId": "e2e9e3a9-e15e-4d5e-8435-434b22a5ac4d"
      },
      "outputs": [
        {
          "output_type": "stream",
          "name": "stdout",
          "text": [
            "numerical: 1.197309 analytic: 1.197309, relative error: 1.458919e-08\n",
            "numerical: 2.500876 analytic: 2.500876, relative error: 3.031088e-08\n",
            "numerical: 1.785222 analytic: 1.785222, relative error: 6.527472e-10\n",
            "numerical: -2.883645 analytic: -2.883645, relative error: 6.171923e-09\n",
            "numerical: -0.258353 analytic: -0.258354, relative error: 5.824108e-08\n",
            "numerical: -2.181827 analytic: -2.181827, relative error: 1.744001e-08\n",
            "numerical: -0.029435 analytic: -0.029435, relative error: 4.617867e-07\n",
            "numerical: 0.630142 analytic: 0.630142, relative error: 3.125501e-08\n",
            "numerical: -0.741073 analytic: -0.741073, relative error: 7.958394e-09\n",
            "numerical: 2.852552 analytic: 2.852552, relative error: 7.119632e-09\n",
            "numerical: 3.304321 analytic: 3.304321, relative error: 4.168791e-09\n",
            "numerical: -3.105322 analytic: -3.105322, relative error: 1.125718e-08\n",
            "numerical: 0.853087 analytic: 0.853087, relative error: 1.674951e-09\n",
            "numerical: -1.178912 analytic: -1.178912, relative error: 4.077684e-08\n",
            "numerical: -1.777825 analytic: -1.777825, relative error: 2.904935e-09\n",
            "numerical: -4.946209 analytic: -4.946209, relative error: 6.335876e-09\n",
            "numerical: 1.914158 analytic: 1.914158, relative error: 1.131071e-08\n",
            "numerical: -1.266974 analytic: -1.266975, relative error: 2.801393e-08\n",
            "numerical: 1.312663 analytic: 1.312663, relative error: 7.943127e-09\n",
            "numerical: 4.732663 analytic: 4.732663, relative error: 1.207177e-08\n"
          ]
        }
      ],
      "source": [
        "# Complete the implementation of softmax_loss_naive and implement a (naive)\n",
        "# version of the gradient that uses nested loops.\n",
        "loss, grad = softmax_loss_naive(W, X_dev, y_dev, 0.0)\n",
        "\n",
        "# As we did for the SVM, use numeric gradient checking as a debugging tool.\n",
        "# The numeric gradient should be close to the analytic gradient.\n",
        "from cs231n.gradient_check import grad_check_sparse\n",
        "f = lambda w: softmax_loss_naive(w, X_dev, y_dev, 0.0)[0]\n",
        "grad_numerical = grad_check_sparse(f, W, grad, 10)\n",
        "\n",
        "# similar to SVM case, do another gradient check with regularization\n",
        "loss, grad = softmax_loss_naive(W, X_dev, y_dev, 5e1)\n",
        "f = lambda w: softmax_loss_naive(w, X_dev, y_dev, 5e1)[0]\n",
        "grad_numerical = grad_check_sparse(f, W, grad, 10)"
      ]
    },
    {
      "cell_type": "code",
      "execution_count": 19,
      "id": "434e757f",
      "metadata": {
        "colab": {
          "base_uri": "https://localhost:8080/"
        },
        "id": "434e757f",
        "outputId": "4d1a2ed1-2a8d-49af-c760-456c338e5420"
      },
      "outputs": [
        {
          "output_type": "stream",
          "name": "stdout",
          "text": [
            "naive loss: 2.354778e+00 computed in 0.137657s\n",
            "vectorized loss: 2.354778e+00 computed in 0.020075s\n",
            "Loss difference: 0.000000\n",
            "Gradient difference: 0.000000\n"
          ]
        }
      ],
      "source": [
        "# Now that we have a naive implementation of the softmax loss function and its gradient,\n",
        "# implement a vectorized version in softmax_loss_vectorized.\n",
        "# The two versions should compute the same results, but the vectorized version should be\n",
        "# much faster.\n",
        "tic = time.time()\n",
        "loss_naive, grad_naive = softmax_loss_naive(W, X_dev, y_dev, 0.000005)\n",
        "toc = time.time()\n",
        "print('naive loss: %e computed in %fs' % (loss_naive, toc - tic))\n",
        "\n",
        "from cs231n.classifiers.softmax import softmax_loss_vectorized\n",
        "tic = time.time()\n",
        "loss_vectorized, grad_vectorized = softmax_loss_vectorized(W, X_dev, y_dev, 0.000005)\n",
        "toc = time.time()\n",
        "print('vectorized loss: %e computed in %fs' % (loss_vectorized, toc - tic))\n",
        "\n",
        "# As we did for the SVM, we use the Frobenius norm to compare the two versions\n",
        "# of the gradient.\n",
        "grad_difference = np.linalg.norm(grad_naive - grad_vectorized, ord='fro')\n",
        "print('Loss difference: %f' % np.abs(loss_naive - loss_vectorized))\n",
        "print('Gradient difference: %f' % grad_difference)"
      ]
    },
    {
      "cell_type": "code",
      "execution_count": 22,
      "id": "2e5e374d",
      "metadata": {
        "tags": [
          "code"
        ],
        "test": "tuning",
        "colab": {
          "base_uri": "https://localhost:8080/"
        },
        "id": "2e5e374d",
        "outputId": "9ec13647-a55b-4827-c1b7-036193b0388e"
      },
      "outputs": [
        {
          "output_type": "stream",
          "name": "stdout",
          "text": [
            "lr 1.000000e-07 reg 1.000000e+03 train accuracy: 0.236571 val accuracy: 0.243000\n",
            "lr 1.000000e-07 reg 3.250000e+03 train accuracy: 0.259857 val accuracy: 0.275000\n",
            "lr 1.000000e-07 reg 5.500000e+03 train accuracy: 0.295429 val accuracy: 0.331000\n",
            "lr 1.000000e-07 reg 7.750000e+03 train accuracy: 0.316306 val accuracy: 0.317000\n",
            "lr 1.000000e-07 reg 1.000000e+04 train accuracy: 0.332633 val accuracy: 0.335000\n",
            "lr 3.250000e-07 reg 1.000000e+03 train accuracy: 0.323959 val accuracy: 0.324000\n",
            "lr 3.250000e-07 reg 3.250000e+03 train accuracy: 0.368755 val accuracy: 0.383000\n",
            "lr 3.250000e-07 reg 5.500000e+03 train accuracy: 0.373939 val accuracy: 0.377000\n",
            "lr 3.250000e-07 reg 7.750000e+03 train accuracy: 0.361837 val accuracy: 0.381000\n",
            "lr 3.250000e-07 reg 1.000000e+04 train accuracy: 0.351327 val accuracy: 0.382000\n",
            "lr 5.500000e-07 reg 1.000000e+03 train accuracy: 0.367490 val accuracy: 0.382000\n",
            "lr 5.500000e-07 reg 3.250000e+03 train accuracy: 0.383735 val accuracy: 0.393000\n",
            "lr 5.500000e-07 reg 5.500000e+03 train accuracy: 0.371408 val accuracy: 0.380000\n",
            "lr 5.500000e-07 reg 7.750000e+03 train accuracy: 0.357469 val accuracy: 0.379000\n",
            "lr 5.500000e-07 reg 1.000000e+04 train accuracy: 0.354939 val accuracy: 0.372000\n",
            "lr 7.750000e-07 reg 1.000000e+03 train accuracy: 0.392633 val accuracy: 0.394000\n",
            "lr 7.750000e-07 reg 3.250000e+03 train accuracy: 0.381102 val accuracy: 0.380000\n",
            "lr 7.750000e-07 reg 5.500000e+03 train accuracy: 0.364020 val accuracy: 0.367000\n",
            "lr 7.750000e-07 reg 7.750000e+03 train accuracy: 0.355980 val accuracy: 0.376000\n",
            "lr 7.750000e-07 reg 1.000000e+04 train accuracy: 0.341673 val accuracy: 0.357000\n",
            "lr 1.000000e-06 reg 1.000000e+03 train accuracy: 0.395286 val accuracy: 0.396000\n",
            "lr 1.000000e-06 reg 3.250000e+03 train accuracy: 0.375918 val accuracy: 0.363000\n",
            "lr 1.000000e-06 reg 5.500000e+03 train accuracy: 0.365816 val accuracy: 0.374000\n",
            "lr 1.000000e-06 reg 7.750000e+03 train accuracy: 0.353102 val accuracy: 0.371000\n",
            "lr 1.000000e-06 reg 1.000000e+04 train accuracy: 0.348714 val accuracy: 0.345000\n",
            "best validation accuracy achieved during cross-validation: 0.396000\n"
          ]
        }
      ],
      "source": [
        "# Use the validation set to tune hyperparameters (regularization strength and\n",
        "# learning rate). You should experiment with different ranges for the learning\n",
        "# rates and regularization strengths; if you are careful you should be able to\n",
        "# get a classification accuracy of over 0.35 on the validation set.\n",
        "\n",
        "from cs231n.classifiers import Softmax\n",
        "results = {}\n",
        "best_val = -1\n",
        "best_softmax = None\n",
        "\n",
        "################################################################################\n",
        "# TODO:                                                                        #\n",
        "# Use the validation set to set the learning rate and regularization strength. #\n",
        "# This should be identical to the validation that you did for the SVM; save    #\n",
        "# the best trained softmax classifer in best_softmax.                          #\n",
        "################################################################################\n",
        "\n",
        "# Provided as a reference. You may or may not want to change these hyperparameters\n",
        "learning_rates = np.linspace(1e-7, 1e-6, 5)\n",
        "regularization_strengths = np.linspace(1e3, 1e4, 5)\n",
        "\n",
        "# *****START OF YOUR CODE (DO NOT DELETE/MODIFY THIS LINE)*****\n",
        "\n",
        "import itertools\n",
        "\n",
        "for lr, reg in itertools.product(learning_rates, regularization_strengths):\n",
        "    # Create Softmax and train it \n",
        "    softmax = Softmax()\n",
        "    softmax.train(X_train, y_train, lr, reg, num_iters=1000)\n",
        "\n",
        "    # Compute training and validation sets accuracies and append to the dictionary\n",
        "    y_train_pred, y_val_pred = softmax.predict(X_train), softmax.predict(X_val)\n",
        "    results[(lr, reg)] = np.mean(y_train == y_train_pred), np.mean(y_val == y_val_pred)\n",
        "\n",
        "    # Save if validation accuracy is the best\n",
        "    if results[(lr, reg)][1] > best_val:\n",
        "        best_val = results[(lr, reg)][1]\n",
        "        best_softmax = softmax\n",
        "\n",
        "# *****END OF YOUR CODE (DO NOT DELETE/MODIFY THIS LINE)*****\n",
        "    \n",
        "# Print out results.\n",
        "for lr, reg in sorted(results):\n",
        "    train_accuracy, val_accuracy = results[(lr, reg)]\n",
        "    print('lr %e reg %e train accuracy: %f val accuracy: %f' % (\n",
        "                lr, reg, train_accuracy, val_accuracy))\n",
        "    \n",
        "print('best validation accuracy achieved during cross-validation: %f' % best_val)"
      ]
    },
    {
      "cell_type": "code",
      "execution_count": 23,
      "id": "deb37cc6",
      "metadata": {
        "test": "test",
        "colab": {
          "base_uri": "https://localhost:8080/"
        },
        "id": "deb37cc6",
        "outputId": "b38fc792-123f-40f1-b045-e1784cc15422"
      },
      "outputs": [
        {
          "output_type": "stream",
          "name": "stdout",
          "text": [
            "softmax on raw pixels final test set accuracy: 0.384000\n"
          ]
        }
      ],
      "source": [
        "# evaluate on test set\n",
        "# Evaluate the best softmax on test set\n",
        "y_test_pred = best_softmax.predict(X_test)\n",
        "test_accuracy = np.mean(y_test == y_test_pred)\n",
        "print('softmax on raw pixels final test set accuracy: %f' % (test_accuracy, ))"
      ]
    },
    {
      "cell_type": "markdown",
      "id": "df501314",
      "metadata": {
        "tags": [
          "pdf-inline"
        ],
        "id": "df501314"
      },
      "source": [
        "**Inline Question 2** - *True or False*\n",
        "\n",
        "Suppose the overall training loss is defined as the sum of the per-datapoint loss over all training examples. It is possible to add a new datapoint to a training set that would leave the SVM loss unchanged, but this is not the case with the Softmax classifier loss.\n",
        "\n",
        "$\\color{blue}{\\textit Your Answer:}$\n",
        "\n",
        "true\n",
        "\n",
        "$\\color{blue}{\\textit Your Explanation:}$\n",
        "\n",
        "SVM: 因其計算loss會設某個最低至少值，所以最低只會是那個值，svm想找的是最高分\n",
        "\n",
        "SOFTMAX: 若加入一個新的訓練資料，有可能影響到原本loss，因為SOFTMAX會參考所有初始y並轉成機率。\n"
      ]
    },
    {
      "cell_type": "code",
      "execution_count": 24,
      "id": "ade33adc",
      "metadata": {
        "colab": {
          "base_uri": "https://localhost:8080/",
          "height": 380
        },
        "id": "ade33adc",
        "outputId": "ea33d878-7c2f-4014-c76b-77d0c6c04c40"
      },
      "outputs": [
        {
          "output_type": "display_data",
          "data": {
            "text/plain": [
              "<Figure size 720x576 with 10 Axes>"
            ],
            "image/png": "[encoded data removed]"
          },
          "metadata": {
            "needs_background": "light"
          }
        }
      ],
      "source": [
        "# Visualize the learned weights for each class\n",
        "w = best_softmax.W[:-1,:] # strip out the bias\n",
        "w = w.reshape(32, 32, 3, 10)\n",
        "\n",
        "w_min, w_max = np.min(w), np.max(w)\n",
        "\n",
        "classes = ['plane', 'car', 'bird', 'cat', 'deer', 'dog', 'frog', 'horse', 'ship', 'truck']\n",
        "for i in range(10):\n",
        "    plt.subplot(2, 5, i + 1)\n",
        "    \n",
        "    # Rescale the weights to be between 0 and 255\n",
        "    wimg = 255.0 * (w[:, :, :, i].squeeze() - w_min) / (w_max - w_min)\n",
        "    plt.imshow(wimg.astype('uint8'))\n",
        "    plt.axis('off')\n",
        "    plt.title(classes[i])"
      ]
    },
    {
      "cell_type": "code",
      "execution_count": null,
      "id": "4d5d17f8",
      "metadata": {
        "id": "4d5d17f8"
      },
      "outputs": [],
      "source": []
    }
  ],
  "metadata": {
    "colab": {
      "provenance": [],
      "collapsed_sections": [],
      "toc_visible": true
    },
    "language_info": {
      "name": "python"
    },
    "kernelspec": {
      "name": "python3",
      "display_name": "Python 3"
    }
  },
  "nbformat": 4,
  "nbformat_minor": 5
}